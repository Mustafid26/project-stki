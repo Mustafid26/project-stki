{
 "cells": [
  {
   "cell_type": "code",
   "execution_count": 1,
   "metadata": {},
   "outputs": [],
   "source": [
    "from sklearn.feature_extraction.text import TfidfVectorizer\n",
    "from sklearn.neighbors import NearestNeighbors\n",
    "import pandas as pd\n",
    "import joblib"
   ]
  },
  {
   "cell_type": "code",
   "execution_count": 2,
   "metadata": {},
   "outputs": [],
   "source": [
    "# Load dataset\n",
    "data = pd.read_json('katalagu-indonesia-2000an.json')"
   ]
  },
  {
   "cell_type": "code",
   "execution_count": 3,
   "metadata": {},
   "outputs": [],
   "source": [
    "if isinstance(data['lyrics'].iloc[0], str):\n",
    "    data['cleaned_lyrics'] = data['lyrics'].str.lower()\n",
    "elif isinstance(data['lyrics'].iloc[0], list):\n",
    "    data['cleaned_lyrics'] = data['lyrics'].apply(lambda x: ' '.join(x) if isinstance(x, list) else '').str.lower()\n",
    "elif isinstance(data['lyrics'].iloc[0], dict):\n",
    "    data['cleaned_lyrics'] = data['lyrics'].apply(lambda x: x.get('text', '') if isinstance(x, dict) else '')\n"
   ]
  },
  {
   "cell_type": "code",
   "execution_count": 4,
   "metadata": {},
   "outputs": [
    {
     "name": "stdout",
     "output_type": "stream",
     "text": [
      "                                              lyrics cleaned_lyrics\n",
      "0  {'artist': 'Acha Septriasa', 'lyric': 'Disini ...               \n",
      "1  {'artist': 'Acha Septriasa', 'lyric': 'Embun D...               \n",
      "2  {'artist': 'Ada Band', 'lyric': '[Verse 1]\n",
      "Bag...               \n",
      "3  {'artist': 'Ada Band', 'lyric': 'Betapa dalam,...               \n",
      "4  {'artist': 'Ada Band', 'lyric': '[Verse 1]\n",
      "Lek...               \n"
     ]
    }
   ],
   "source": [
    "print(data.head())"
   ]
  },
  {
   "cell_type": "code",
   "execution_count": 5,
   "metadata": {},
   "outputs": [
    {
     "name": "stdout",
     "output_type": "stream",
     "text": [
      "<class 'pandas.core.frame.DataFrame'>\n",
      "RangeIndex: 265 entries, 0 to 264\n",
      "Data columns (total 2 columns):\n",
      " #   Column          Non-Null Count  Dtype \n",
      "---  ------          --------------  ----- \n",
      " 0   lyrics          265 non-null    object\n",
      " 1   cleaned_lyrics  265 non-null    object\n",
      "dtypes: object(2)\n",
      "memory usage: 4.3+ KB\n",
      "None\n"
     ]
    }
   ],
   "source": [
    "print(data.info())"
   ]
  },
  {
   "cell_type": "code",
   "execution_count": 6,
   "metadata": {},
   "outputs": [],
   "source": [
    "data['cleaned_lyrics'] = data['cleaned_lyrics'].fillna('')"
   ]
  },
  {
   "cell_type": "code",
   "execution_count": 7,
   "metadata": {},
   "outputs": [
    {
     "name": "stdout",
     "output_type": "stream",
     "text": [
      "0    {'artist': 'Acha Septriasa', 'lyric': 'Disini ...\n",
      "1    {'artist': 'Acha Septriasa', 'lyric': 'Embun D...\n",
      "2    {'artist': 'Ada Band', 'lyric': '[Verse 1]\n",
      "Bag...\n",
      "3    {'artist': 'Ada Band', 'lyric': 'Betapa dalam,...\n",
      "4    {'artist': 'Ada Band', 'lyric': '[Verse 1]\n",
      "Lek...\n",
      "5    {'artist': 'Ada Band', 'lyric': 'Malam kehadir...\n",
      "6    {'artist': 'Ada Band', 'lyric': 'Ingin kumerai...\n",
      "7    {'artist': 'Ada Band', 'lyric': 'Manja...kau d...\n",
      "8    {'artist': 'Ada Band', 'lyric': '[Verse 1]\n",
      "Dah...\n",
      "9    {'artist': 'Ada Band', 'lyric': 'Rasa cinta ya...\n",
      "Name: lyrics, dtype: object\n"
     ]
    }
   ],
   "source": [
    "print(data['lyrics'].head(10))"
   ]
  },
  {
   "cell_type": "code",
   "execution_count": 8,
   "metadata": {},
   "outputs": [
    {
     "name": "stdout",
     "output_type": "stream",
     "text": [
      "0    disini kau dan aku\\nterbiasa bersama\\nmenjalan...\n",
      "1    embun di pagi buta\\nmenebarkan bau asa\\ndetik ...\n",
      "2    [verse 1]\\nbagaimana mestinya\\nmembuatmu jatuh...\n",
      "3    betapa dalam, rasa kasihku padamu\\nyang slalu ...\n",
      "4    [verse 1]\\nlekuk indah hadirkan pesona\\nkemuli...\n",
      "5    malam kehadiran cinta sambut jiwa baru\\ntelah ...\n",
      "6    ingin kumeraih bintang\\nkuingin seperti bintan...\n",
      "7    manja...kau dambaku\\nselalu mengusik hatiku\\ns...\n",
      "8    [verse 1]\\ndahulu terasa indah\\ntak ingin lupa...\n",
      "9    rasa cinta yang dulu tlah hilang\\nkini bersemi...\n",
      "Name: cleaned_lyrics, dtype: object\n"
     ]
    }
   ],
   "source": [
    "data['cleaned_lyrics'] = data['lyrics'].apply(lambda x: x['lyric'].lower() if isinstance(x, dict) and 'lyric' in x else '')\n",
    "data['cleaned_lyrics'] = data['cleaned_lyrics'].fillna('')\n",
    "print(data['cleaned_lyrics'].head(10))"
   ]
  },
  {
   "cell_type": "code",
   "execution_count": 9,
   "metadata": {},
   "outputs": [],
   "source": [
    "vectorizer = TfidfVectorizer()\n",
    "X = vectorizer.fit_transform(data['cleaned_lyrics'])"
   ]
  },
  {
   "cell_type": "code",
   "execution_count": 10,
   "metadata": {},
   "outputs": [],
   "source": [
    "def search_songs(query, vectorizer, X, data):\n",
    "    # Transform the query to the same TF-IDF space\n",
    "    query_vec = vectorizer.transform([query])\n",
    "    \n",
    "    # Calculate cosine similarity between the query and the song lyrics\n",
    "    cosine_similarities = np.dot(X, query_vec.T).toarray().flatten()\n",
    "    \n",
    "    # Get indices of the songs sorted by similarity\n",
    "    similar_indices = cosine_similarities.argsort()[::-1]\n",
    "    \n",
    "    # Get the most similar songs (you can adjust the number)\n",
    "    top_n = 5  # Number of top results to return\n",
    "    similar_songs = data.iloc[similar_indices[:top_n]]\n",
    "    \n",
    "    return similar_songs"
   ]
  },
  {
   "cell_type": "code",
   "execution_count": 11,
   "metadata": {},
   "outputs": [],
   "source": [
    "model = NearestNeighbors(n_neighbors=5, metric='cosine').fit(X)"
   ]
  },
  {
   "cell_type": "code",
   "execution_count": 12,
   "metadata": {},
   "outputs": [
    {
     "name": "stdout",
     "output_type": "stream",
     "text": [
      "Model and vectorizer saved successfully.\n"
     ]
    }
   ],
   "source": [
    "joblib.dump(vectorizer, 'vectorizer.pkl')\n",
    "joblib.dump(model, 'reff_model.pkl')\n",
    "\n",
    "print(\"Model and vectorizer saved successfully.\")"
   ]
  }
 ],
 "metadata": {
  "kernelspec": {
   "display_name": "Python 3",
   "language": "python",
   "name": "python3"
  },
  "language_info": {
   "codemirror_mode": {
    "name": "ipython",
    "version": 3
   },
   "file_extension": ".py",
   "mimetype": "text/x-python",
   "name": "python",
   "nbconvert_exporter": "python",
   "pygments_lexer": "ipython3",
   "version": "3.12.2"
  }
 },
 "nbformat": 4,
 "nbformat_minor": 2
}
